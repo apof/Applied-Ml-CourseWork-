{
 "cells": [
  {
   "cell_type": "markdown",
   "metadata": {},
   "source": [
    "Before you turn this problem in, make sure everything runs as expected. First, **restart the kernel** (in the menubar, select Kernel$\\rightarrow$Restart) and then **run all cells** (in the menubar, select Cell$\\rightarrow$Run All).\n",
    "\n",
    "Make sure you fill in any place that says `YOUR CODE HERE` or \"YOUR ANSWER HERE\"."
   ]
  },
  {
   "cell_type": "markdown",
   "metadata": {},
   "source": [
    "---"
   ]
  },
  {
   "cell_type": "markdown",
   "metadata": {
    "deletable": false,
    "editable": false,
    "nbgrader": {
     "cell_type": "markdown",
     "checksum": "6a304af5a51fdd051a6f6f8af9628661",
     "grade": false,
     "grade_id": "jupyter",
     "locked": true,
     "schema_version": 3,
     "solution": false,
     "task": false
    }
   },
   "source": [
    "# Unsupervised learning\n",
    "\n",
    "In this coursework we're going to implement two classic unsupervised learning algorithms:\n",
    "\n",
    "* K-means\n",
    "* Principal components analysis\n",
    "\n",
    "and we will apply them to two classic machine learning benchmark datasets,\n",
    "\n",
    "* [Fisher's Iris flower data (1936)](https://en.wikipedia.org/wiki/Iris_flower_data_set)\n",
    "* The [MNIST handwritten digit dataset](http://yann.lecun.com/exdb/mnist/).\n",
    "\n",
    "\n",
    "\n"
   ]
  },
  {
   "cell_type": "code",
   "execution_count": 1,
   "metadata": {
    "deletable": false,
    "editable": false,
    "nbgrader": {
     "cell_type": "code",
     "checksum": "9f5b958b5b5626b92af8771cbe747c48",
     "grade": false,
     "grade_id": "cell-604e90afd9f1ef87",
     "locked": true,
     "schema_version": 3,
     "solution": false,
     "task": false
    }
   },
   "outputs": [],
   "source": [
    "import numpy as np\n",
    "import matplotlib.pyplot as plt"
   ]
  },
  {
   "cell_type": "markdown",
   "metadata": {
    "deletable": false,
    "editable": false,
    "nbgrader": {
     "cell_type": "markdown",
     "checksum": "eecd619cfb1c2bef283fdeac6f7c8b08",
     "grade": false,
     "grade_id": "cell-be4d1c5132cad0e0",
     "locked": true,
     "schema_version": 3,
     "solution": false,
     "task": false
    }
   },
   "source": [
    "Load the iris dataset"
   ]
  },
  {
   "cell_type": "code",
   "execution_count": 2,
   "metadata": {
    "deletable": false,
    "editable": false,
    "nbgrader": {
     "cell_type": "code",
     "checksum": "7f87b03dd1820e451036312a1c95a56b",
     "grade": false,
     "grade_id": "cell-0e4c97c0ca4c1602",
     "locked": true,
     "schema_version": 3,
     "solution": false,
     "task": false
    }
   },
   "outputs": [],
   "source": [
    "def load_data():\n",
    "    data = np.load('iris.npy')\n",
    "    return data[:,:-1], data[:,-1]\n",
    "\n",
    "X_iris, y_iris = load_data()\n",
    "N, data_dim = X_iris.shape"
   ]
  },
  {
   "cell_type": "markdown",
   "metadata": {
    "deletable": false,
    "editable": false,
    "nbgrader": {
     "cell_type": "markdown",
     "checksum": "b1bb114af60220c2ebc3ce34c9b0bdb8",
     "grade": false,
     "grade_id": "cell-d91f918a4dd98590",
     "locked": true,
     "schema_version": 3,
     "solution": false,
     "task": false
    }
   },
   "source": [
    "## PART 1: Principal components analysis (4 points)\n",
    "\n",
    "In the first part of the assignment, we're going to implement principal components analysis.\n",
    "\n",
    "**Don't worry!** You can compute this however you want, but are encouraged to use numpy's linear algebra libraries, which will make this simple.\n",
    "\n",
    "In particular, take a look at the methods in `numpy.linalg`:\n",
    "\n",
    "* `np.linalg.svd` [[documentation](https://numpy.org/doc/stable/reference/generated/numpy.linalg.svd.html)] computes the singular value decomposition of a rectangular matrix. You will want to refer to the documentation to make sure that you:\n",
    "    * correctly interpret the **three** return values\n",
    "    * pass the correct options for the flags `full_matrices`, `compute_uv`, and `hermitian`\n",
    "* `np.linalg.eig` [[documentation](https://numpy.org/doc/stable/reference/generated/numpy.linalg.eig.html)] computes eigenvalues and eigenvectors of a square matrix\n",
    "* `np.linalg.eigh` [[documentation](https://numpy.org/doc/stable/reference/generated/numpy.linalg.eigh.html)] also computes eigenvalues and eigenvectors, but only of **symmetric** square matrices (for which it is more efficient).\n",
    "\n",
    "In the following function, we assume that the data a $N \\times D$ matrix $\\mathbf{X}$, and would like to compute the first $M$ prinicpal components.\n",
    "\n",
    "The function should return:\n",
    "* $\\bar{\\mathbf{x}} \\in \\mathbb{R}^D$, the mean of $\\mathbf{X}$\n",
    "* $\\mathbf{W} \\in \\mathbb{R}^{D \\times M}$, the projection matrix for transforming (and un-transforming) the data\n",
    "* $\\mathbf{s} \\in \\mathbb{R}^{D}$, the sequence of all $D$ singular values. We will use these to diagnose whether we chose an appropriate cutoff value of $M$, as well as to compute the explained variance."
   ]
  },
  {
   "cell_type": "code",
   "execution_count": 7,
   "metadata": {
    "deletable": false,
    "nbgrader": {
     "cell_type": "code",
     "checksum": "9f2d7c106e30f05656379b88d16ebb3a",
     "grade": false,
     "grade_id": "pca-main",
     "locked": false,
     "schema_version": 3,
     "solution": true,
     "task": false
    }
   },
   "outputs": [],
   "source": [
    "def compute_PCA_parameters(X, M):\n",
    "    \"\"\"\n",
    "    This function computes the first M prinicpal components of a\n",
    "    dataset X. It returns the mean of the data, the projection matrix,\n",
    "    and the associated singular values.\n",
    "    \n",
    "    While you can compute this however you want, `np.linalg.svd` is\n",
    "    highly recommended. Please look at its documentation to choose\n",
    "    its arguments appropriately, and on how to interpret its return values.\n",
    "    \n",
    "    [2 points]\n",
    "    \n",
    "    INPUT:\n",
    "    X    : (N, D) matrix; each row is a D-dimensional data point\n",
    "    M    : integer, <= D (number of principal components to return)\n",
    "    \n",
    "    OUTPUTS:\n",
    "    x_bar  : (D,) vector, with the mean of the data\n",
    "    W      : (D, M) semi-orthogonal matrix of projections\n",
    "    s      : (D,) vector of singular values\n",
    "    \"\"\"\n",
    "\n",
    "    # YOUR CODE HERE\n",
    "    \n",
    "    ## compute the mean value of each feature\n",
    "    # Subtract the mean of each variable from the dataset so that the dataset should be centered on the origin\n",
    "    x_bar = np.mean(X , axis = 0)\n",
    "    x_std = np.std(X, axis=0)\n",
    "    #X_transformed = (X - x_bar)/x_std\n",
    "    X_transformed = (X - x_bar)\n",
    "    # calculating the covariance matrix of the mean-centered data.\n",
    "    X_covariance_matrix = np.cov(X_transformed.T)\n",
    "    #Calculating Eigenvalues and Eigenvectors of the covariance matrix\n",
    "    #eigen_values , eigen_vectors = np.linalg.eig(X_covariance_matrix)\n",
    "    _, eigen_values, eigen_vectors  = np.linalg.svd(X_transformed, full_matrices = True)\n",
    "    eigen_vectors = eigen_vectors.T\n",
    "    print(eigen_values)\n",
    "    print(eigen_vectors)\n",
    "    #sort the eigenvalues in descending order\n",
    "    sorted_index = np.argsort(eigen_values)[::-1]\n",
    "    sorted_eigenvalue = eigen_values[sorted_index]\n",
    "    #similarly sort the eigenvectors \n",
    "    sorted_eigenvectors = eigen_vectors[:,sorted_index]\n",
    "    # select the first M eigenvectors\n",
    "    eigenvector_subset = sorted_eigenvectors[:,0:M]\n",
    "    \n",
    "    W = eigenvector_subset\n",
    "    s = eigen_values\n",
    "    \n",
    "    \n",
    "    tot = sum(eigen_values)\n",
    "    var_exp = [(i / tot)*100 for i in sorted(eigen_values, reverse=True)]\n",
    "    cum_var_exp = np.cumsum(var_exp)\n",
    "    print(\"Variance captured by each component is \\n\",var_exp)\n",
    "    print(40 * '-')\n",
    "    print(\"Cumulative variance captured as we travel each component \\n\",cum_var_exp)\n",
    "    \n",
    "    print(W)\n",
    "    \n",
    "    return x_bar, W, sorted_eigenvalue\n"
   ]
  },
  {
   "cell_type": "markdown",
   "metadata": {
    "deletable": false,
    "editable": false,
    "nbgrader": {
     "cell_type": "markdown",
     "checksum": "e57b4c0974f6fd6922db5727af13f662",
     "grade": false,
     "grade_id": "cell-603275d295b88772",
     "locked": true,
     "schema_version": 3,
     "solution": false,
     "task": false
    }
   },
   "source": [
    "Compute the first two principal components."
   ]
  },
  {
   "cell_type": "code",
   "execution_count": 9,
   "metadata": {},
   "outputs": [
    {
     "name": "stdout",
     "output_type": "stream",
     "text": [
      "[25.09996044  6.01314738  3.41368064  1.88452351]\n",
      "[[-0.36138659  0.65658877  0.58202985  0.31548719]\n",
      " [ 0.08452251  0.73016143 -0.59791083 -0.3197231 ]\n",
      " [-0.85667061 -0.17337266 -0.07623608 -0.47983899]\n",
      " [-0.3582892  -0.07548102 -0.54583143  0.75365743]]\n",
      "Variance captured by each component is \n",
      " [68.93451260847006, 16.514503478886148, 9.375329957420577, 5.175653955223223]\n",
      "----------------------------------------\n",
      "Cumulative variance captured as we travel each component \n",
      " [ 68.93451261  85.44901609  94.82434604 100.        ]\n",
      "[[-0.36138659  0.65658877]\n",
      " [ 0.08452251  0.73016143]\n",
      " [-0.85667061 -0.17337266]\n",
      " [-0.3582892  -0.07548102]]\n",
      "--@--@--@--\n",
      "[5.84333333 3.05733333 3.758      1.19933333]\n",
      "[[-0.36138659  0.65658877]\n",
      " [ 0.08452251  0.73016143]\n",
      " [-0.85667061 -0.17337266]\n",
      " [-0.3582892  -0.07548102]]\n",
      "[25.09996044  6.01314738  3.41368064  1.88452351]\n"
     ]
    }
   ],
   "source": [
    "N_components = 2\n",
    "x_bar, W, s = compute_PCA_parameters(X_iris, N_components)\n",
    "print(\"--@--@--@--\")\n",
    "print(x_bar)\n",
    "print(W)\n",
    "print(s)"
   ]
  },
  {
   "cell_type": "markdown",
   "metadata": {
    "deletable": false,
    "editable": false,
    "nbgrader": {
     "cell_type": "markdown",
     "checksum": "2272a3b241eac5f3789022b056327e69",
     "grade": false,
     "grade_id": "cell-f01fc31e5896d56c",
     "locked": true,
     "schema_version": 3,
     "solution": false,
     "task": false
    }
   },
   "source": [
    "Now we'll run a few self-tests to make sure that the implementation is correct. To start, we will\n",
    "* double-check that all the returned matrices have the correct dimensions, and\n",
    "* double-check that the matrix $\\mathbf{W}$ is actually orthogonal, i.e. with $\\mathbf{W}^\\top \\mathbf{W} = \\mathbf{I}$."
   ]
  },
  {
   "cell_type": "code",
   "execution_count": 10,
   "metadata": {
    "deletable": false,
    "editable": false,
    "nbgrader": {
     "cell_type": "code",
     "checksum": "a9be7be6e92c49d4f99f4a869d27dfc2",
     "grade": true,
     "grade_id": "pca-1",
     "locked": true,
     "points": 1,
     "schema_version": 3,
     "solution": false,
     "task": false
    }
   },
   "outputs": [],
   "source": [
    "assert x_bar.shape == (data_dim,)\n",
    "assert W.shape == (data_dim, N_components)\n",
    "assert s.shape == (data_dim,)\n"
   ]
  },
  {
   "cell_type": "code",
   "execution_count": 11,
   "metadata": {
    "deletable": false,
    "editable": false,
    "nbgrader": {
     "cell_type": "code",
     "checksum": "b101c6aa97811638bb0528e4d793de4c",
     "grade": true,
     "grade_id": "pca-2",
     "locked": true,
     "points": 1,
     "schema_version": 3,
     "solution": false,
     "task": false
    }
   },
   "outputs": [],
   "source": [
    "assert np.allclose(W.T @ W, np.eye(N_components))\n"
   ]
  },
  {
   "cell_type": "markdown",
   "metadata": {
    "deletable": false,
    "editable": false,
    "nbgrader": {
     "cell_type": "markdown",
     "checksum": "6854769b5e20220b5151b30d71305d1e",
     "grade": false,
     "grade_id": "cell-62dafa32d3a74bd7",
     "locked": true,
     "schema_version": 3,
     "solution": false,
     "task": false
    }
   },
   "source": [
    "### Now, implement methods to transform (and un-transform) your data.\n",
    "\n",
    "You can find the equations for this in the slides (or in either of the textbook chapters)."
   ]
  },
  {
   "cell_type": "code",
   "execution_count": 12,
   "metadata": {
    "deletable": false,
    "nbgrader": {
     "cell_type": "code",
     "checksum": "019f54ebf223d44978123426fd4b8c12",
     "grade": false,
     "grade_id": "pca-transform",
     "locked": false,
     "schema_version": 3,
     "solution": true,
     "task": false
    }
   },
   "outputs": [],
   "source": [
    "def PCA_transform(X, W, x_bar):\n",
    "    \"\"\" \n",
    "    Apply the PCA transformation to data (reducing dimensionality).\n",
    "    \n",
    "    [1 point]\n",
    "    \n",
    "    INPUTS:\n",
    "    X     : (N, D) matrix; each row is a D-dimensional data point\n",
    "    W     : (D, M) semi-orthogonal matrix of projections\n",
    "    x_bar : (D,) vector, with the mean of the data\n",
    "\n",
    "    OUTPUT:\n",
    "    Z     : (N, M) matrix of transformed data\n",
    "    \"\"\"\n",
    "    # YOUR CODE HERE\n",
    "    return ((X - x_bar)).dot(W)\n",
    "    \n",
    "    \n",
    "\n",
    "def PCA_inverse_transform(Z, W, X_bar):\n",
    "    \"\"\"\n",
    "    Apply the PCA inverse transformation, to reconstruct the data\n",
    "    from the low-dimensional projection.\n",
    "    \n",
    "    [1 point]\n",
    "    \n",
    "    INPUTS:\n",
    "    Z     : (N, M) matrix of transformed data\n",
    "    W     : (D, M) semi-orthogonal matrix of projections\n",
    "    x_bar : (D,) vector, with the mean of the data\n",
    "\n",
    "    OUTPUT:\n",
    "    X     : (N, D) matrix; each row is a D-dimensional data point\n",
    "    \"\"\"\n",
    "    \n",
    "    # YOUR CODE HERE\n",
    "    \n",
    "    return np.dot(Z,W.transpose()) + X_bar"
   ]
  },
  {
   "cell_type": "markdown",
   "metadata": {},
   "source": [
    "The singular values that you computed while finding the projection matrix correspond exactly to the explained and unexplained variance.\n",
    "\n",
    "In the following plot, we show the singular values divided by the number of data points, to show the amount of variance captured in each dimension on a per-datapoint scale."
   ]
  },
  {
   "cell_type": "code",
   "execution_count": 13,
   "metadata": {},
   "outputs": [
    {
     "data": {
      "image/png": "[encoded data removed]",
      "text/plain": [
       "<Figure size 432x288 with 1 Axes>"
      ]
     },
     "metadata": {
      "needs_background": "light"
     },
     "output_type": "display_data"
    }
   ],
   "source": [
    "plt.plot(np.arange(data_dim)+1, s**2 / N, '.-')\n",
    "plt.xticks(np.arange(data_dim)+1)\n",
    "plt.xlabel('Component');\n",
    "plt.ylabel('Explained variance');"
   ]
  },
  {
   "cell_type": "markdown",
   "metadata": {
    "deletable": false,
    "editable": false,
    "nbgrader": {
     "cell_type": "markdown",
     "checksum": "ab64b694999c55df68c1697623c4ffe9",
     "grade": false,
     "grade_id": "cell-e885b61a5872d2aa",
     "locked": true,
     "schema_version": 3,
     "solution": false,
     "task": false
    }
   },
   "source": [
    "This provides another way of double-checking that your implementation is correct!\n",
    "\n",
    "The following cell computes two quantities:\n",
    "\n",
    "$$\\frac{1}{N} \\sum_{i=1}^N \\| \\mathbf{x}_i - \\hat{\\mathbf{x}}_i \\|_2^2$$\n",
    "\n",
    "$$\\frac{1}{N} \\sum_{j =M+1}^D s_j^2$$\n",
    "\n",
    "If all the implementations are correct, these values should be the same — the sum of variance from the remaining dimensions should exactly be the sum of the squared reconstruction error."
   ]
  },
  {
   "cell_type": "code",
   "execution_count": 14,
   "metadata": {},
   "outputs": [
    {
     "name": "stdout",
     "output_type": "stream",
     "text": [
      "Average squared reconstruction error: 0.10136\n",
      "Sum of remaining singular values: 0.10136\n"
     ]
    }
   ],
   "source": [
    "Z_iris = PCA_transform(X_iris, W, x_bar)\n",
    "X_hat = PCA_inverse_transform(Z_iris, W, x_bar)\n",
    "\n",
    "squared_error_tr = ((X_iris - X_hat)**2).sum(-1).mean()\n",
    "unexplained_variance = (s[N_components:]**2).sum() / N\n",
    "\n",
    "\n",
    "print(\"Average squared reconstruction error: %0.5f\" % squared_error_tr)\n",
    "print(\"Sum of remaining singular values: %0.5f\" % unexplained_variance)"
   ]
  },
  {
   "cell_type": "code",
   "execution_count": 15,
   "metadata": {
    "deletable": false,
    "editable": false,
    "nbgrader": {
     "cell_type": "code",
     "checksum": "385f95122ad17f30167656355d9ab548",
     "grade": true,
     "grade_id": "pca-3",
     "locked": true,
     "points": 1,
     "schema_version": 3,
     "solution": false,
     "task": false
    }
   },
   "outputs": [],
   "source": [
    "assert np.isclose(squared_error_tr, unexplained_variance)\n"
   ]
  },
  {
   "cell_type": "code",
   "execution_count": 16,
   "metadata": {
    "deletable": false,
    "editable": false,
    "nbgrader": {
     "cell_type": "code",
     "checksum": "de2463e80fd5f8c56455ed1d6dcf3cbe",
     "grade": true,
     "grade_id": "pca-4",
     "locked": true,
     "points": 1,
     "schema_version": 3,
     "solution": false,
     "task": false
    }
   },
   "outputs": [],
   "source": [
    "# (GRADING)\n"
   ]
  },
  {
   "cell_type": "markdown",
   "metadata": {
    "deletable": false,
    "editable": false,
    "nbgrader": {
     "cell_type": "markdown",
     "checksum": "5951477c3c12df3692db2fbc2ef89048",
     "grade": false,
     "grade_id": "cell-6bbdbdf975490bb9",
     "locked": true,
     "schema_version": 3,
     "solution": false,
     "task": false
    }
   },
   "source": [
    "### Plotting using PCA\n",
    "\n",
    "Assuming the code is working, we can now use this to make a 2d plot of this 4d dataset.\n",
    "\n",
    "Visually, you can compare this to the PCA plot in the Matrix Factorization lecture slides (you can also compare against the \"pairs\" plot there that shows each pair of dimensions against each other in turn!). Remember that the sign of each embedding dimension is arbitrary.\n",
    "\n",
    "There's no coding assignment here — just run and look at the plots and make sure everything seems okay before moving on to the next section."
   ]
  },
  {
   "cell_type": "code",
   "execution_count": 17,
   "metadata": {},
   "outputs": [
    {
     "data": {
      "image/png": "[encoded data removed]",
      "text/plain": [
       "<Figure size 432x288 with 1 Axes>"
      ]
     },
     "metadata": {
      "needs_background": "light"
     },
     "output_type": "display_data"
    }
   ],
   "source": [
    "plt.figure(figsize=(6,4))\n",
    "plt.plot(Z_iris[:,0], Z_iris[:,1], '.', markersize=10)\n",
    "plt.xlabel(\"PC 1\");\n",
    "plt.ylabel(\"PC 2\");"
   ]
  },
  {
   "cell_type": "markdown",
   "metadata": {
    "deletable": false,
    "editable": false,
    "nbgrader": {
     "cell_type": "markdown",
     "checksum": "60b510b6416cae2bffbaf078cd4f86f7",
     "grade": false,
     "grade_id": "cell-b1e57481f44ef5d6",
     "locked": true,
     "schema_version": 3,
     "solution": false,
     "task": false
    }
   },
   "source": [
    "### This dataset actually does have labels.\n",
    "\n",
    "The measurements correspond to three different species of flowers.\n",
    "\n",
    "We can plot this data colored by the species:"
   ]
  },
  {
   "cell_type": "code",
   "execution_count": 18,
   "metadata": {},
   "outputs": [
    {
     "data": {
      "image/png": "[encoded data removed]",
      "text/plain": [
       "<Figure size 432x288 with 1 Axes>"
      ]
     },
     "metadata": {
      "needs_background": "light"
     },
     "output_type": "display_data"
    }
   ],
   "source": [
    "plt.figure(figsize=(6,4))\n",
    "for k in range(3):\n",
    "    plt.plot(Z_iris[y_iris==k,0], Z_iris[y_iris==k,1], '.', color='C%d'%k, markersize=10)\n",
    "plt.legend(['setosa', 'versicolor', 'virginica'])\n",
    "plt.xlabel(\"PC 1\");\n",
    "plt.ylabel(\"PC 2\");"
   ]
  },
  {
   "cell_type": "markdown",
   "metadata": {
    "deletable": false,
    "editable": false,
    "nbgrader": {
     "cell_type": "markdown",
     "checksum": "0a1b7a33e40d5353474f7bab500c1cfa",
     "grade": false,
     "grade_id": "cell-9a0818030d188623",
     "locked": true,
     "schema_version": 3,
     "solution": false,
     "task": false
    }
   },
   "source": [
    "Interestingly, a very large amount of the variance is actually captured just by the very first principal component. We can also visualize a 1d projection:"
   ]
  },
  {
   "cell_type": "code",
   "execution_count": 19,
   "metadata": {},
   "outputs": [
    {
     "data": {
      "image/png": "[encoded data removed]",
      "text/plain": [
       "<Figure size 432x72 with 1 Axes>"
      ]
     },
     "metadata": {
      "needs_background": "light"
     },
     "output_type": "display_data"
    }
   ],
   "source": [
    "plt.figure(figsize=(6,1))\n",
    "for k in range(3):\n",
    "    plt.plot(Z_iris[y_iris==k,0], np.random.rand(sum(y_iris==k))*0.1-0.05, '.', color='C%d'%k, markersize=5)\n",
    "plt.yticks([])\n",
    "plt.ylim(-1, 1);\n",
    "plt.xlabel(\"PC 1\");"
   ]
  },
  {
   "cell_type": "markdown",
   "metadata": {
    "deletable": false,
    "editable": false,
    "nbgrader": {
     "cell_type": "markdown",
     "checksum": "1a42b54e211111dd0ec6fc0e3356ba9d",
     "grade": false,
     "grade_id": "cell-a857b236eb4e0f83",
     "locked": true,
     "schema_version": 3,
     "solution": false,
     "task": false
    }
   },
   "source": [
    "## PART 2: K-Means (5 points)\n",
    "\n",
    "Next, we will implement the K-means algorithm. We'll first run this on the Iris dataset, for testing, and then try it out on a more challenging problem.\n",
    "\n",
    "You will have to implement three functions:\n",
    "\n",
    "* `update_cluster_means` takes the data and a current cluster assignment, and computes new updated cluster centers.\n",
    "    * **You will need to decide yourself** how to handle clusters that have no points assigned to them. (Any behavior that allows the overall algorithm to run successfully is acceptable!)\n",
    "* `update_cluster_assignments` takes the data and a set of cluster means, and computes new updated cluster assignments.\n",
    "    * You aren't being graded explicitly on efficiency, but do try to make it run reasonably fast. It is possible to vectorize this operation using only numpy functions.\n",
    "    * You can re-use your own code from previous assignments if that is helpful (though it might not be!).\n",
    "* `fit_k_means` takes a data matrix and runs the \"outer loop\" of the K-means algorithm. **You will need to decide for yourself:**\n",
    "    * How to initialize the algorithm\n",
    "    * What is an appropriate stopping criteria\n",
    "\n",
    "The supplied `within_cluster_ss` function evaluates how well the data fits the current set of cluster means and assignments."
   ]
  },
  {
   "cell_type": "code",
   "execution_count": 15,
   "metadata": {
    "deletable": false,
    "editable": false,
    "nbgrader": {
     "cell_type": "code",
     "checksum": "e54d79a514d458e44cffebb2321d1024",
     "grade": false,
     "grade_id": "cell-77a1fc2e31f62be8",
     "locked": true,
     "schema_version": 3,
     "solution": false,
     "task": false
    }
   },
   "outputs": [],
   "source": [
    "def within_cluster_ss(X, z, mu, K):\n",
    "    \"\"\" Returns the total within-cluster sum of squared distances from centers \"\"\"\n",
    "    ss = 0\n",
    "    for k in range(K):\n",
    "        ss += ((X[z==k] - mu[k])**2).sum()\n",
    "    return ss"
   ]
  },
  {
   "cell_type": "code",
   "execution_count": 58,
   "metadata": {
    "deletable": false,
    "nbgrader": {
     "cell_type": "code",
     "checksum": "a2e4223e8ee00a1d401345e4e59b4b39",
     "grade": false,
     "grade_id": "k-means-1",
     "locked": false,
     "schema_version": 3,
     "solution": true,
     "task": false
    }
   },
   "outputs": [],
   "source": [
    "def update_cluster_means(X, z, K):\n",
    "    \"\"\" \n",
    "    Update the cluster means, given the data and a current cluster assignment\n",
    "    \n",
    "    [2 points]\n",
    "    \n",
    "    INPUTS:\n",
    "    X     : (N, D) data matrix; each row is a D-dimensional data point\n",
    "    z     : (N,) vector of integers indicating current cluster assignment\n",
    "    K     : integer; target number of clusters\n",
    "\n",
    "    OUTPUT:\n",
    "    mu    : (K, D) matrix of cluster centers (means)\n",
    "    \"\"\"\n",
    "    N, D = X.shape\n",
    "    \n",
    "    cluster_dict = {}\n",
    "    for i in range(K):\n",
    "        cluster_dict[i] = []\n",
    "        \n",
    "    # YOUR CODE HERE\n",
    "    for i in range(N):\n",
    "        cluster_list = cluster_dict.get(z[i])\n",
    "        cluster_list.append(X[i])\n",
    "        cluster_dict[z[i]] = cluster_list\n",
    "        \n",
    "    mu = []\n",
    "    \n",
    "    for key in cluster_dict:\n",
    "        cluster = cluster_dict.get(key)\n",
    "        m = np.zeros((D))\n",
    "        for vector in cluster:\n",
    "            m = np.add(m,vector)\n",
    "        \n",
    "        m = m/len(cluster)\n",
    "        mu.append(m)\n",
    "        \n",
    "    mu = np.array(mu)\n",
    "    \n",
    "    return mu"
   ]
  },
  {
   "cell_type": "code",
   "execution_count": 59,
   "metadata": {
    "deletable": false,
    "nbgrader": {
     "cell_type": "code",
     "checksum": "3435b841ba9bd24a6228061e0ee40785",
     "grade": false,
     "grade_id": "k-means-2",
     "locked": false,
     "schema_version": 3,
     "solution": true,
     "task": false
    }
   },
   "outputs": [],
   "source": [
    "def update_cluster_assignments(X, mu):\n",
    "    \"\"\" \n",
    "    Update cluster assignments, given the data and current cluster means\n",
    "    \n",
    "    [2 points]\n",
    "    \n",
    "    INPUTS:\n",
    "    X     : (N, D) data matrix; each row is a D-dimensional data point\n",
    "    mu    : (K, D) matrix of cluster centers (means)\n",
    "\n",
    "    OUTPUT:\n",
    "    z     : (N,) vector of integers indicating current cluster assignment\n",
    "    \n",
    "    \"\"\"\n",
    "    \n",
    "    N, D = X.shape\n",
    "\n",
    "    # YOUR CODE HERE\n",
    "    z = np.zeros((N))\n",
    "    for i in range(N):\n",
    "        max_dist = 10000000\n",
    "        cluster_id = None\n",
    "        for j in range(mu.shape[0]):\n",
    "            dist = np.sqrt(np.sum((X[i] - mu[j]) ** 2))\n",
    "            if(dist < max_dist):\n",
    "                max_dist = dist \n",
    "                cluster_id = j\n",
    "        z[i] = cluster_id\n",
    "                \n",
    "    return z"
   ]
  },
  {
   "cell_type": "code",
   "execution_count": 60,
   "metadata": {},
   "outputs": [
    {
     "data": {
      "text/plain": [
       "array([[1.5, 1.5],\n",
       "       [3. , 3. ]])"
      ]
     },
     "execution_count": 60,
     "metadata": {},
     "output_type": "execute_result"
    }
   ],
   "source": [
    "update_cluster_means(np.array([[1.0,1.0], [2.0,2.0], [3.0,3.0]]), \n",
    "                                        np.array([0, 0, 1]), 2)"
   ]
  },
  {
   "cell_type": "code",
   "execution_count": 61,
   "metadata": {},
   "outputs": [
    {
     "name": "stderr",
     "output_type": "stream",
     "text": [
      "/home/apostolos/miniconda3/lib/python3.7/site-packages/ipykernel_launcher.py:35: RuntimeWarning: invalid value encountered in true_divide\n"
     ]
    },
    {
     "data": {
      "text/plain": [
       "array([[ 2.,  2.],\n",
       "       [nan, nan]])"
      ]
     },
     "execution_count": 61,
     "metadata": {},
     "output_type": "execute_result"
    }
   ],
   "source": [
    "update_cluster_means(np.array([[1.0,1.0], [2.0,2.0], [3.0,3.0]]), \n",
    "                                        np.array([0, 0, 0]), 2)"
   ]
  },
  {
   "cell_type": "markdown",
   "metadata": {
    "deletable": false,
    "editable": false,
    "nbgrader": {
     "cell_type": "markdown",
     "checksum": "85d5e27cff3aa70b6fb9311e66a6bfc6",
     "grade": false,
     "grade_id": "cell-50ba0cfb18655d8b",
     "locked": true,
     "schema_version": 3,
     "solution": false,
     "task": false
    }
   },
   "source": [
    "You can evaluate both these functions by running tests on simple examples where the \"correct\" behaviour is obvious."
   ]
  },
  {
   "cell_type": "code",
   "execution_count": 62,
   "metadata": {
    "deletable": false,
    "editable": false,
    "nbgrader": {
     "cell_type": "code",
     "checksum": "ced623115f41f240e807332ba6f33b6b",
     "grade": true,
     "grade_id": "km-test-1",
     "locked": true,
     "points": 1,
     "schema_version": 3,
     "solution": false,
     "task": false
    }
   },
   "outputs": [],
   "source": [
    "assert np.allclose(update_cluster_means(np.array([[1.0], [2.0], [3.0]]), \n",
    "                                        np.array([0, 0, 1]), 2),\n",
    "                   np.array([[1.5], [3.0]]))\n",
    "\n"
   ]
  },
  {
   "cell_type": "code",
   "execution_count": 63,
   "metadata": {
    "deletable": false,
    "editable": false,
    "nbgrader": {
     "cell_type": "code",
     "checksum": "d9de89f8c04b55f58353c7f7afd5a946",
     "grade": true,
     "grade_id": "km-test-2",
     "locked": true,
     "points": 1,
     "schema_version": 3,
     "solution": false,
     "task": false
    }
   },
   "outputs": [],
   "source": [
    "assert np.allclose(update_cluster_assignments(np.array([[1.0, 1.0], \n",
    "                                                        [0.0, 2.0],\n",
    "                                                        [3.0, 0.0]]), \n",
    "                                              np.array([[0.5, 0.5],\n",
    "                                                        [4.0, -1.0]])),\n",
    "                   np.array([0,0,1]))\n",
    "\n"
   ]
  },
  {
   "cell_type": "code",
   "execution_count": 64,
   "metadata": {
    "deletable": false,
    "editable": false,
    "nbgrader": {
     "cell_type": "code",
     "checksum": "58a51aeb5c9a5d36e5821f03fc8fee42",
     "grade": true,
     "grade_id": "km-test-3",
     "locked": true,
     "points": 1,
     "schema_version": 3,
     "solution": false,
     "task": false
    }
   },
   "outputs": [],
   "source": [
    "# (GRADING)\n"
   ]
  },
  {
   "cell_type": "code",
   "execution_count": 65,
   "metadata": {
    "deletable": false,
    "editable": false,
    "nbgrader": {
     "cell_type": "code",
     "checksum": "227e3649532f1ca4d28665757f70aa11",
     "grade": true,
     "grade_id": "km-test-4",
     "locked": true,
     "points": 1,
     "schema_version": 3,
     "solution": false,
     "task": false
    }
   },
   "outputs": [],
   "source": [
    "# (GRADING)\n"
   ]
  },
  {
   "cell_type": "code",
   "execution_count": 66,
   "metadata": {
    "deletable": false,
    "nbgrader": {
     "cell_type": "code",
     "checksum": "31c4de741c1c5e3e23c53d5f76549435",
     "grade": false,
     "grade_id": "k-means-3",
     "locked": false,
     "schema_version": 3,
     "solution": true,
     "task": false
    }
   },
   "outputs": [],
   "source": [
    "def fit_k_means(X, K):\n",
    "    \"\"\"\n",
    "    Using both `update_cluster_means` and `update_cluster_assignments` to\n",
    "    implement the K-means algorithm.\n",
    "    \n",
    "    You will need to decide for yourself:\n",
    "        * how to initialize the algorithm;\n",
    "        * what is an appropriate stopping criteria.\n",
    "    \n",
    "    [1 point]\n",
    "    \n",
    "    INPUTS:\n",
    "    X    : (N, D) data matrix; each row is a D-dimensional data point\n",
    "    K    : integer, target (maximum) number of clusters\n",
    "\n",
    "    OUTPUTS:\n",
    "    z     : (N,) vector of integers indicating final cluster assignment\n",
    "    mu    : (K, D) matrix of final computed cluster centers (means)\n",
    "    iters : integer, number of iterations required (measured in terms of\n",
    "            calls to `update_cluster_assignments`). This is just for \n",
    "            diagnosis --- you will not be graded on the value of this\n",
    "            number being \"correct\".\n",
    "    \"\"\"\n",
    "    \n",
    "    N, D = X.shape\n",
    "    \n",
    "    iters = 0\n",
    "    termination_flag = False\n",
    "    \n",
    "    ## select K points randmly as the mean points\n",
    "    mu_indexes = []\n",
    "    mu = []\n",
    "    while(len(mu_indexes) != K):\n",
    "        index = np.random.randint(0,N)\n",
    "        if(index not in mu_indexes):\n",
    "            mu.append(X[index])\n",
    "            mu_indexes.append(index)\n",
    "    mu = np.array(mu)\n",
    "    \n",
    "    iters = 0\n",
    "    while(termination_flag == False):\n",
    "        iters += 1\n",
    "        #print(\"Iteration: \" + str(iters))\n",
    "        z = update_cluster_assignments(X, mu)\n",
    "        old_mu = mu\n",
    "        mu = update_cluster_means(X, z, K)\n",
    "        ## if a cluster becomes empty assign the old mean to it\n",
    "        array_sum = np.sum(mu)\n",
    "        if(np.isnan(array_sum) == True):\n",
    "            print(\"Empty cluster encountered!\")\n",
    "        if(np.array_equal(mu,old_mu) == True):\n",
    "            termination_flag = True\n",
    "        \n",
    "    return z, mu, iters"
   ]
  },
  {
   "cell_type": "markdown",
   "metadata": {
    "deletable": false,
    "editable": false,
    "nbgrader": {
     "cell_type": "markdown",
     "checksum": "ae5f8db368b278508bd0db2ff5bdcb73",
     "grade": false,
     "grade_id": "cell-5360cdac8a6bb41c",
     "locked": true,
     "schema_version": 3,
     "solution": false,
     "task": false
    }
   },
   "source": [
    "### The following cell runs the K-means algorithm for a range of K, from 1 to 10.\n",
    "\n",
    "It then plots the within-cluster sum-of-squares, i.e., the total sum of squared distances from each point to its associated cluster center, for each different value of $K$. \n",
    "\n",
    "This is effectively the \"cluster loss\" associated with K-means.\n",
    "\n",
    "* *Question*: before running this cell, what do you think this plot will look like? After running it, do you think your implementation is correct?\n",
    "* *Question*: how can you use this plot to determine the appropriate choice of $K$?\n",
    "* *Question*: if you re-run this many times, do the results change?"
   ]
  },
  {
   "cell_type": "code",
   "execution_count": 67,
   "metadata": {},
   "outputs": [
    {
     "name": "stdout",
     "output_type": "stream",
     "text": [
      "K = 1: 2 iterations\n",
      "K = 2: 4 iterations\n",
      "K = 3: 6 iterations\n",
      "K = 4: 9 iterations\n",
      "K = 5: 15 iterations\n",
      "K = 6: 7 iterations\n",
      "K = 7: 11 iterations\n",
      "K = 8: 8 iterations\n",
      "K = 9: 6 iterations\n"
     ]
    },
    {
     "data": {
      "image/png": "[encoded data removed]",
      "text/plain": [
       "<Figure size 432x288 with 1 Axes>"
      ]
     },
     "metadata": {
      "needs_background": "light"
     },
     "output_type": "display_data"
    }
   ],
   "source": [
    "WSS = []\n",
    "res = []\n",
    "Ks = range(1, 10)\n",
    "for K in Ks:\n",
    "    z, mu, iters = fit_k_means(X_iris, K)\n",
    "    print(\"K = %d: %d iterations\" % (K, iters))\n",
    "    WSS.append(within_cluster_ss(X_iris, z, mu, K))\n",
    "    res.append((z, mu))\n",
    "    \n",
    "plt.plot(Ks, WSS);\n",
    "plt.xlabel(\"K\")\n",
    "plt.ylabel(\"Within-cluster sum-of-squares\");"
   ]
  },
  {
   "cell_type": "markdown",
   "metadata": {
    "deletable": false,
    "editable": false,
    "nbgrader": {
     "cell_type": "markdown",
     "checksum": "2e107d244d7c579df623413f95050097",
     "grade": false,
     "grade_id": "cell-dc9d3bf73900b3b3",
     "locked": true,
     "schema_version": 3,
     "solution": false,
     "task": false
    }
   },
   "source": [
    "### The following code makes a scatter plot of the clusters you just learned, visualized using the PCA representation you found above!\n",
    "\n",
    "This should help you visually diagnose whether your code is doing the right thing.\n",
    "\n",
    "It also can help you decide whether you were right about your choice of \"appropriate\" K."
   ]
  },
  {
   "cell_type": "code",
   "execution_count": 131,
   "metadata": {},
   "outputs": [],
   "source": [
    "def plot_K_means_pca(X, z, mu, W=None, x_bar=None):\n",
    "    \"\"\" Plot K-means results. Will attempt to use your PCA implementation! \n",
    "    \n",
    "        If your PCA implementation doesn't work, don't worry -- it will fall back\n",
    "        to just using the first two dimensions of the data instead.\n",
    "    \"\"\"\n",
    "    use_pca = True\n",
    "    try:\n",
    "        pca_X = PCA_transform(X, W, x_bar)\n",
    "        pca_mu = PCA_transform(mu, W, x_bar)\n",
    "    except:\n",
    "        pca_X = X\n",
    "        pca_mu = mu\n",
    "        use_pca = False\n",
    "    cluster_ids = np.unique(z)\n",
    "    for k in cluster_ids:\n",
    "        plt.plot(pca_X[z==k,0], pca_X[z==k,1], '.', color='C%d'%k, label='cluster %d' % k, markersize=10)\n",
    "    for k in np.arange(z.max()+1):\n",
    "        plt.plot(pca_mu[k,0], pca_mu[k,1], '*', color='#fff', markersize=20, label=None)\n",
    "        plt.plot(pca_mu[k,0], pca_mu[k,1], '*', color='#000', markersize=18, label=None)\n",
    "        plt.plot(pca_mu[k,0], pca_mu[k,1], '*', color='C%d'%k, markersize=12, label='mean %d' % k)\n",
    "    if use_pca:\n",
    "        plt.xlabel(\"PCA Axis 1\")\n",
    "        plt.ylabel(\"PCA Axis 2\");\n",
    "    else:\n",
    "        plt.xlabel(\"Dimension 1\")\n",
    "        plt.ylabel(\"Dimension 2\");\n",
    "    plt.legend();\n"
   ]
  },
  {
   "cell_type": "code",
   "execution_count": 134,
   "metadata": {},
   "outputs": [
    {
     "ename": "IndexError",
     "evalue": "only integers, slices (`:`), ellipsis (`...`), numpy.newaxis (`None`) and integer or boolean arrays are valid indices",
     "output_type": "error",
     "traceback": [
      "\u001b[0;31m---------------------------------------------------------------------------\u001b[0m",
      "\u001b[0;31mIndexError\u001b[0m                                Traceback (most recent call last)",
      "\u001b[0;32m<ipython-input-134-f60b22ed36fe>\u001b[0m in \u001b[0;36m<module>\u001b[0;34m\u001b[0m\n\u001b[1;32m      6\u001b[0m \u001b[0mplt\u001b[0m\u001b[0;34m.\u001b[0m\u001b[0mtitle\u001b[0m\u001b[0;34m(\u001b[0m\u001b[0;34m\"K = %d\"\u001b[0m \u001b[0;34m%\u001b[0m \u001b[0mK\u001b[0m\u001b[0;34m)\u001b[0m\u001b[0;34m\u001b[0m\u001b[0;34m\u001b[0m\u001b[0m\n\u001b[1;32m      7\u001b[0m \u001b[0mz\u001b[0m\u001b[0;34m,\u001b[0m \u001b[0mmu\u001b[0m \u001b[0;34m=\u001b[0m \u001b[0mres\u001b[0m\u001b[0;34m[\u001b[0m\u001b[0mK\u001b[0m\u001b[0;34m-\u001b[0m\u001b[0;36m1\u001b[0m\u001b[0;34m]\u001b[0m\u001b[0;34m\u001b[0m\u001b[0;34m\u001b[0m\u001b[0m\n\u001b[0;32m----> 8\u001b[0;31m \u001b[0mplot_K_means_pca\u001b[0m\u001b[0;34m(\u001b[0m\u001b[0mX_iris\u001b[0m\u001b[0;34m,\u001b[0m \u001b[0mz\u001b[0m\u001b[0;34m,\u001b[0m \u001b[0mmu\u001b[0m\u001b[0;34m,\u001b[0m \u001b[0mW\u001b[0m\u001b[0;34m,\u001b[0m \u001b[0mx_bar\u001b[0m\u001b[0;34m)\u001b[0m\u001b[0;34m\u001b[0m\u001b[0;34m\u001b[0m\u001b[0m\n\u001b[0m",
      "\u001b[0;32m<ipython-input-131-64101654169d>\u001b[0m in \u001b[0;36mplot_K_means_pca\u001b[0;34m(X, z, mu, W, x_bar)\u001b[0m\n\u001b[1;32m     17\u001b[0m         \u001b[0mplt\u001b[0m\u001b[0;34m.\u001b[0m\u001b[0mplot\u001b[0m\u001b[0;34m(\u001b[0m\u001b[0mpca_X\u001b[0m\u001b[0;34m[\u001b[0m\u001b[0mz\u001b[0m\u001b[0;34m==\u001b[0m\u001b[0mk\u001b[0m\u001b[0;34m,\u001b[0m\u001b[0;36m0\u001b[0m\u001b[0;34m]\u001b[0m\u001b[0;34m,\u001b[0m \u001b[0mpca_X\u001b[0m\u001b[0;34m[\u001b[0m\u001b[0mz\u001b[0m\u001b[0;34m==\u001b[0m\u001b[0mk\u001b[0m\u001b[0;34m,\u001b[0m\u001b[0;36m1\u001b[0m\u001b[0;34m]\u001b[0m\u001b[0;34m,\u001b[0m \u001b[0;34m'.'\u001b[0m\u001b[0;34m,\u001b[0m \u001b[0mcolor\u001b[0m\u001b[0;34m=\u001b[0m\u001b[0;34m'C%d'\u001b[0m\u001b[0;34m%\u001b[0m\u001b[0mk\u001b[0m\u001b[0;34m,\u001b[0m \u001b[0mlabel\u001b[0m\u001b[0;34m=\u001b[0m\u001b[0;34m'cluster %d'\u001b[0m \u001b[0;34m%\u001b[0m \u001b[0mk\u001b[0m\u001b[0;34m,\u001b[0m \u001b[0mmarkersize\u001b[0m\u001b[0;34m=\u001b[0m\u001b[0;36m10\u001b[0m\u001b[0;34m)\u001b[0m\u001b[0;34m\u001b[0m\u001b[0;34m\u001b[0m\u001b[0m\n\u001b[1;32m     18\u001b[0m     \u001b[0;32mfor\u001b[0m \u001b[0mk\u001b[0m \u001b[0;32min\u001b[0m \u001b[0mnp\u001b[0m\u001b[0;34m.\u001b[0m\u001b[0marange\u001b[0m\u001b[0;34m(\u001b[0m\u001b[0mz\u001b[0m\u001b[0;34m.\u001b[0m\u001b[0mmax\u001b[0m\u001b[0;34m(\u001b[0m\u001b[0;34m)\u001b[0m\u001b[0;34m+\u001b[0m\u001b[0;36m1\u001b[0m\u001b[0;34m)\u001b[0m\u001b[0;34m:\u001b[0m\u001b[0;34m\u001b[0m\u001b[0;34m\u001b[0m\u001b[0m\n\u001b[0;32m---> 19\u001b[0;31m         \u001b[0mplt\u001b[0m\u001b[0;34m.\u001b[0m\u001b[0mplot\u001b[0m\u001b[0;34m(\u001b[0m\u001b[0mpca_mu\u001b[0m\u001b[0;34m[\u001b[0m\u001b[0mk\u001b[0m\u001b[0;34m,\u001b[0m\u001b[0;36m0\u001b[0m\u001b[0;34m]\u001b[0m\u001b[0;34m,\u001b[0m \u001b[0mpca_mu\u001b[0m\u001b[0;34m[\u001b[0m\u001b[0mk\u001b[0m\u001b[0;34m,\u001b[0m\u001b[0;36m1\u001b[0m\u001b[0;34m]\u001b[0m\u001b[0;34m,\u001b[0m \u001b[0;34m'*'\u001b[0m\u001b[0;34m,\u001b[0m \u001b[0mcolor\u001b[0m\u001b[0;34m=\u001b[0m\u001b[0;34m'#fff'\u001b[0m\u001b[0;34m,\u001b[0m \u001b[0mmarkersize\u001b[0m\u001b[0;34m=\u001b[0m\u001b[0;36m20\u001b[0m\u001b[0;34m,\u001b[0m \u001b[0mlabel\u001b[0m\u001b[0;34m=\u001b[0m\u001b[0;32mNone\u001b[0m\u001b[0;34m)\u001b[0m\u001b[0;34m\u001b[0m\u001b[0;34m\u001b[0m\u001b[0m\n\u001b[0m\u001b[1;32m     20\u001b[0m         \u001b[0mplt\u001b[0m\u001b[0;34m.\u001b[0m\u001b[0mplot\u001b[0m\u001b[0;34m(\u001b[0m\u001b[0mpca_mu\u001b[0m\u001b[0;34m[\u001b[0m\u001b[0mk\u001b[0m\u001b[0;34m,\u001b[0m\u001b[0;36m0\u001b[0m\u001b[0;34m]\u001b[0m\u001b[0;34m,\u001b[0m \u001b[0mpca_mu\u001b[0m\u001b[0;34m[\u001b[0m\u001b[0mk\u001b[0m\u001b[0;34m,\u001b[0m\u001b[0;36m1\u001b[0m\u001b[0;34m]\u001b[0m\u001b[0;34m,\u001b[0m \u001b[0;34m'*'\u001b[0m\u001b[0;34m,\u001b[0m \u001b[0mcolor\u001b[0m\u001b[0;34m=\u001b[0m\u001b[0;34m'#000'\u001b[0m\u001b[0;34m,\u001b[0m \u001b[0mmarkersize\u001b[0m\u001b[0;34m=\u001b[0m\u001b[0;36m18\u001b[0m\u001b[0;34m,\u001b[0m \u001b[0mlabel\u001b[0m\u001b[0;34m=\u001b[0m\u001b[0;32mNone\u001b[0m\u001b[0;34m)\u001b[0m\u001b[0;34m\u001b[0m\u001b[0;34m\u001b[0m\u001b[0m\n\u001b[1;32m     21\u001b[0m         \u001b[0mplt\u001b[0m\u001b[0;34m.\u001b[0m\u001b[0mplot\u001b[0m\u001b[0;34m(\u001b[0m\u001b[0mpca_mu\u001b[0m\u001b[0;34m[\u001b[0m\u001b[0mk\u001b[0m\u001b[0;34m,\u001b[0m\u001b[0;36m0\u001b[0m\u001b[0;34m]\u001b[0m\u001b[0;34m,\u001b[0m \u001b[0mpca_mu\u001b[0m\u001b[0;34m[\u001b[0m\u001b[0mk\u001b[0m\u001b[0;34m,\u001b[0m\u001b[0;36m1\u001b[0m\u001b[0;34m]\u001b[0m\u001b[0;34m,\u001b[0m \u001b[0;34m'*'\u001b[0m\u001b[0;34m,\u001b[0m \u001b[0mcolor\u001b[0m\u001b[0;34m=\u001b[0m\u001b[0;34m'C%d'\u001b[0m\u001b[0;34m%\u001b[0m\u001b[0mk\u001b[0m\u001b[0;34m,\u001b[0m \u001b[0mmarkersize\u001b[0m\u001b[0;34m=\u001b[0m\u001b[0;36m12\u001b[0m\u001b[0;34m,\u001b[0m \u001b[0mlabel\u001b[0m\u001b[0;34m=\u001b[0m\u001b[0;34m'mean %d'\u001b[0m \u001b[0;34m%\u001b[0m \u001b[0mk\u001b[0m\u001b[0;34m)\u001b[0m\u001b[0;34m\u001b[0m\u001b[0;34m\u001b[0m\u001b[0m\n",
      "\u001b[0;31mIndexError\u001b[0m: only integers, slices (`:`), ellipsis (`...`), numpy.newaxis (`None`) and integer or boolean arrays are valid indices"
     ]
    },
    {
     "data": {
      "image/png": "[encoded data removed]",
      "text/plain": [
       "<Figure size 576x432 with 1 Axes>"
      ]
     },
     "metadata": {
      "needs_background": "light"
     },
     "output_type": "display_data"
    }
   ],
   "source": [
    "\n",
    "# CHANGE THIS TO PLOT DIFFERENT VALUES!\n",
    "K = 3\n",
    "\n",
    "\n",
    "plt.figure(figsize=(8,6))\n",
    "plt.title(\"K = %d\" % K)\n",
    "z, mu = res[K-1]\n",
    "plot_K_means_pca(X_iris, z, mu, W, x_bar)"
   ]
  },
  {
   "cell_type": "code",
   "execution_count": null,
   "metadata": {
    "deletable": false,
    "editable": false,
    "nbgrader": {
     "cell_type": "code",
     "checksum": "575838b9f15abdd62128595b6034bc04",
     "grade": true,
     "grade_id": "km-test-5",
     "locked": true,
     "points": 1,
     "schema_version": 3,
     "solution": false,
     "task": false
    }
   },
   "outputs": [],
   "source": [
    "# (GRADING)\n"
   ]
  },
  {
   "cell_type": "markdown",
   "metadata": {
    "deletable": false,
    "editable": false,
    "nbgrader": {
     "cell_type": "markdown",
     "checksum": "0af496595f9f6c007032ab450394aa1c",
     "grade": false,
     "grade_id": "cell-ce927b8ec6c5f4aa",
     "locked": true,
     "schema_version": 3,
     "solution": false,
     "task": false
    }
   },
   "source": [
    "## PART 3: K-means on the MNIST data (1 point)\n",
    "\n",
    "The Iris data doesn't really lend itself to clustering. Instead, for something more interesting, we're going to cluster the MNIST dataset, which consists of 60,000 hand-written digits. Each digit is a 28 by 28 greyscale image."
   ]
  },
  {
   "cell_type": "code",
   "execution_count": null,
   "metadata": {},
   "outputs": [],
   "source": [
    "MNIST = np.load(\"mnist.npz\")\n",
    "mnist_images = MNIST['X']\n",
    "\n",
    "def make_img_grid(images, n_cols=10):\n",
    "    \"\"\" Helper function for arranging images into a grid \"\"\"\n",
    "    cols = []\n",
    "    gap = len(images) % n_cols\n",
    "    if gap > 0:\n",
    "        # add padding if needed\n",
    "        images = np.concatenate((images, np.zeros((n_cols-gap,)+images[0].shape)), 0)\n",
    "    for n in range(n_cols):\n",
    "        cols.append(np.concatenate(images[np.arange(n, len(images), step=n_cols)]))\n",
    "    return np.concatenate(cols, -1)\n",
    "\n",
    "plt.figure(figsize=(14,7))\n",
    "plt.imshow(make_img_grid(mnist_images[:300], n_cols=30), cmap='binary_r');"
   ]
  },
  {
   "cell_type": "markdown",
   "metadata": {
    "deletable": false,
    "editable": false,
    "nbgrader": {
     "cell_type": "markdown",
     "checksum": "fc822b71b740c62fd317db12b0b8f344",
     "grade": false,
     "grade_id": "cell-b38ad2f6a1e353c8",
     "locked": true,
     "schema_version": 3,
     "solution": false,
     "task": false
    }
   },
   "source": [
    "### PCA as pre-processing for K-means\n",
    "\n",
    "One challenge with K-means is that it can be slow to find the nearest cluster centers for each datapoint. This is particularly for high dimensional data (or for large K).\n",
    "\n",
    "A very very easy way to speed things up is to pre-process the data by reducing its dimensionality.\n",
    "\n",
    "Here, we will run PCA as pre-processing. The next cells reshape the original MNIST data, from\n",
    "\n",
    "* `mnist_images.shape == [60000, 28, 28]`\n",
    "\n",
    "into a 2d array (matrix)\n",
    "\n",
    "* `X_mnist.shape == [60000, 784]`.\n",
    "\n",
    "In that form, you should be able to run PCA on it. My implementation of PCA, running on a laptop, **takes less than 5 seconds to run**. (If this step is very slow, you may want to double-check your PCA implementation!)"
   ]
  },
  {
   "cell_type": "code",
   "execution_count": null,
   "metadata": {},
   "outputs": [],
   "source": [
    "%%time\n",
    "\n",
    "X_mnist = mnist_images.reshape(-1, 784) # reshape to 2d matrix\n",
    "\n",
    "mnist_mean, W_mnist, s_mnist = compute_PCA_parameters(X_mnist, 50)\n",
    "\n",
    "N, data_dim = X_mnist.shape\n",
    "plt.figure(figsize=(12,4))\n",
    "plt.plot(np.arange(data_dim)+1, s_mnist**2 / N, '.-')\n",
    "plt.xlabel('Component');\n",
    "plt.ylabel('Explained variance');"
   ]
  },
  {
   "cell_type": "markdown",
   "metadata": {},
   "source": [
    "**Use the plot above to decide how many components you will need to expect to have reasonable results.**\n",
    "\n",
    "### Your task:\n",
    "\n",
    "Complete the following function, `k_means_pca_mnist`.\n",
    "\n",
    "This function should do the following steps:\n",
    "\n",
    "1. Take the data and project it down to a small (specified) number of components\n",
    "2. Run K-means on the low-dimensional representation\n",
    "3. Return the cluster labels\n",
    "\n",
    "Note that if you select a very large number of components, your code may be *very slow* unless you did a *very good job* implementing your K-means algorithm efficiently.\n",
    "\n",
    "On the other hand, if you choose a very small number of components, you may return clusters that are fairly meaningless.\n",
    "\n",
    "**You will receive full credit for this section so long as:**\n",
    "* your code returns a \"reasonable\" clustering (This should be obvious once inspecting your clusters visually!)\n",
    "* it finishes running within the cutoff time (Aim to keep it under one minute to be safe!)\n",
    "\n",
    "My reference implementation ran in about ~30 seconds on my laptop."
   ]
  },
  {
   "cell_type": "code",
   "execution_count": null,
   "metadata": {
    "deletable": false,
    "nbgrader": {
     "cell_type": "code",
     "checksum": "cba81db54c97da5b6ba7d15467a4d4ac",
     "grade": false,
     "grade_id": "mnist-question",
     "locked": false,
     "schema_version": 3,
     "solution": true,
     "task": false
    }
   },
   "outputs": [],
   "source": [
    "def k_means_pca_mnist(X_mnist, K):\n",
    "    \"\"\"\n",
    "    Run K-means on PCA-transformed MNIST data.\n",
    "\n",
    "    There is a \"number of components\" variable which you should hard-code\n",
    "    at the top of this function!\n",
    "    \n",
    "    [1 point]\n",
    "\n",
    "    INPUTS:\n",
    "    X_mnist : (60000,784) matrix of MNIST data\n",
    "    K       : integer, target number of clusters\n",
    "    \n",
    "    OUTPUTS:\n",
    "    z       : (60000,) vector of integers containing cluster assignments\n",
    "    iters   : integer, number of iterations (for reference only)\n",
    "    \"\"\"\n",
    "\n",
    "    # SET THIS VALUE TO SOMETHING SMALLER THAN 784!\n",
    "    N_components = 784\n",
    "    \n",
    "    # YOUR CODE HERE\n",
    "    raise NotImplementedError()\n",
    "    # ... return z, iters\n",
    "    \n"
   ]
  },
  {
   "cell_type": "markdown",
   "metadata": {
    "deletable": false,
    "editable": false,
    "nbgrader": {
     "cell_type": "markdown",
     "checksum": "d77f52d1d2b0fdb5fa899a283b7717c2",
     "grade": false,
     "grade_id": "cell-e0c2f1cf18344cdf",
     "locked": true,
     "schema_version": 3,
     "solution": false,
     "task": false
    }
   },
   "source": [
    "Now, we will run this clustering code, looking for $K = 20$ clusters.\n",
    "\n",
    "*N.B.: my implementation took less than 30 seconds to run.*"
   ]
  },
  {
   "cell_type": "code",
   "execution_count": null,
   "metadata": {
    "deletable": false,
    "editable": false,
    "nbgrader": {
     "cell_type": "code",
     "checksum": "499f17aaf2fd5013b7730c94dd1947d5",
     "grade": false,
     "grade_id": "cell-73d12d383bc8b604",
     "locked": true,
     "schema_version": 3,
     "solution": false,
     "task": false
    }
   },
   "outputs": [],
   "source": [
    "%%time\n",
    "\n",
    "z_mnist, iters = k_means_pca_mnist(X_mnist, K=20)"
   ]
  },
  {
   "cell_type": "markdown",
   "metadata": {
    "deletable": false,
    "editable": false,
    "nbgrader": {
     "cell_type": "markdown",
     "checksum": "38ca36f4edf5048e8805d414ca7b049e",
     "grade": false,
     "grade_id": "cell-9d66c241554a3560",
     "locked": true,
     "schema_version": 3,
     "solution": false,
     "task": false
    }
   },
   "source": [
    "### Visualizing clusters\n",
    "\n",
    "The best way to visualize these clusters is to just go ahead and plot a large number of examples from each! Hopefully, you'll see that they do in fact resemble clusters."
   ]
  },
  {
   "cell_type": "code",
   "execution_count": null,
   "metadata": {},
   "outputs": [],
   "source": [
    "plt.figure(figsize=(16, 50))\n",
    "for k in range(20):\n",
    "    plt.subplot(20, 1, k+1)\n",
    "    plt.imshow(make_img_grid(mnist_images[z_mnist==k][:200], n_cols=40), cmap='binary_r');\n",
    "    plt.xticks([])\n",
    "    plt.yticks([])\n",
    "    plt.ylabel(\"Cluster %d\" % (k+1))\n",
    "plt.tight_layout();"
   ]
  },
  {
   "cell_type": "markdown",
   "metadata": {
    "deletable": false,
    "editable": false,
    "nbgrader": {
     "cell_type": "markdown",
     "checksum": "7198c554352af3ea25589bc195f8ae0a",
     "grade": false,
     "grade_id": "cell-2b38e23f9c8840a8",
     "locked": true,
     "schema_version": 3,
     "solution": false,
     "task": false
    }
   },
   "source": [
    "Of course, you can also compute and plot the means themselves, though this might not be as informative (they will likely be \"blurry\" averages, rather than actual realistic images)."
   ]
  },
  {
   "cell_type": "code",
   "execution_count": null,
   "metadata": {},
   "outputs": [],
   "source": [
    "mu_mnist = update_cluster_means(X_mnist, z_mnist, 20)\n",
    "plt.imshow(make_img_grid(mu_mnist.reshape(20,28,28)), cmap='binary_r');\n"
   ]
  },
  {
   "cell_type": "code",
   "execution_count": null,
   "metadata": {
    "deletable": false,
    "editable": false,
    "nbgrader": {
     "cell_type": "code",
     "checksum": "4a16774679d0c35afdef9403cf389165",
     "grade": true,
     "grade_id": "mnist-grading",
     "locked": true,
     "points": 1,
     "schema_version": 3,
     "solution": false,
     "task": false
    }
   },
   "outputs": [],
   "source": [
    "# (GRADING)\n",
    "\n",
    "\n"
   ]
  }
 ],
 "metadata": {
  "kernelspec": {
   "display_name": "Python 3",
   "language": "python",
   "name": "python3"
  },
  "language_info": {
   "codemirror_mode": {
    "name": "ipython",
    "version": 3
   },
   "file_extension": ".py",
   "mimetype": "text/x-python",
   "name": "python",
   "nbconvert_exporter": "python",
   "pygments_lexer": "ipython3",
   "version": "3.7.3"
  }
 },
 "nbformat": 4,
 "nbformat_minor": 4
}
